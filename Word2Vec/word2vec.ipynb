{
 "cells": [
  {
   "cell_type": "markdown",
   "id": "2e6bf1a2",
   "metadata": {},
   "source": [
    "Dataset Link: (http://snap.stanford.edu/data/amazon/productGraph/categoryFiles/reviews_Cell_Phones_and_Accessories_5.json.gz)"
   ]
  },
  {
   "cell_type": "code",
   "execution_count": 2,
   "id": "8d8294fe",
   "metadata": {},
   "outputs": [],
   "source": [
    "import pandas as pd\n",
    "import gensim"
   ]
  },
  {
   "cell_type": "code",
   "execution_count": 4,
   "id": "41549917",
   "metadata": {},
   "outputs": [
    {
     "data": {
      "text/html": [
       "<div>\n",
       "<style scoped>\n",
       "    .dataframe tbody tr th:only-of-type {\n",
       "        vertical-align: middle;\n",
       "    }\n",
       "\n",
       "    .dataframe tbody tr th {\n",
       "        vertical-align: top;\n",
       "    }\n",
       "\n",
       "    .dataframe thead th {\n",
       "        text-align: right;\n",
       "    }\n",
       "</style>\n",
       "<table border=\"1\" class=\"dataframe\">\n",
       "  <thead>\n",
       "    <tr style=\"text-align: right;\">\n",
       "      <th></th>\n",
       "      <th>reviewerID</th>\n",
       "      <th>asin</th>\n",
       "      <th>reviewerName</th>\n",
       "      <th>helpful</th>\n",
       "      <th>reviewText</th>\n",
       "      <th>overall</th>\n",
       "      <th>summary</th>\n",
       "      <th>unixReviewTime</th>\n",
       "      <th>reviewTime</th>\n",
       "    </tr>\n",
       "  </thead>\n",
       "  <tbody>\n",
       "    <tr>\n",
       "      <th>129738</th>\n",
       "      <td>A1GUHYYOW8KTCL</td>\n",
       "      <td>B009QUDLC4</td>\n",
       "      <td>JP</td>\n",
       "      <td>[0, 0]</td>\n",
       "      <td>I bought these thinking they would be &amp;#34;ok&amp;...</td>\n",
       "      <td>5</td>\n",
       "      <td>does what it's supposed to!</td>\n",
       "      <td>1380326400</td>\n",
       "      <td>09 28, 2013</td>\n",
       "    </tr>\n",
       "    <tr>\n",
       "      <th>187858</th>\n",
       "      <td>A34815X9NM9C5V</td>\n",
       "      <td>B00HF6G6IM</td>\n",
       "      <td>Bill Gatliff</td>\n",
       "      <td>[0, 1]</td>\n",
       "      <td>I grab the bright colors when I travel, makes ...</td>\n",
       "      <td>5</td>\n",
       "      <td>Great for travelers</td>\n",
       "      <td>1401062400</td>\n",
       "      <td>05 26, 2014</td>\n",
       "    </tr>\n",
       "    <tr>\n",
       "      <th>154953</th>\n",
       "      <td>A328VWN79IQFZ5</td>\n",
       "      <td>B00BW6GH76</td>\n",
       "      <td>Jonathan</td>\n",
       "      <td>[0, 0]</td>\n",
       "      <td>Love it. Doesn't add much to the size, althoug...</td>\n",
       "      <td>5</td>\n",
       "      <td>Wonderful case</td>\n",
       "      <td>1399248000</td>\n",
       "      <td>05 5, 2014</td>\n",
       "    </tr>\n",
       "    <tr>\n",
       "      <th>52779</th>\n",
       "      <td>A8P8Y71R8AJ3K</td>\n",
       "      <td>B005G0QR6K</td>\n",
       "      <td>1st Klaz</td>\n",
       "      <td>[3, 5]</td>\n",
       "      <td>I like the rubber cases bc they do not affect ...</td>\n",
       "      <td>5</td>\n",
       "      <td>Something original</td>\n",
       "      <td>1341964800</td>\n",
       "      <td>07 11, 2012</td>\n",
       "    </tr>\n",
       "    <tr>\n",
       "      <th>119336</th>\n",
       "      <td>AR4Y501FFAJHM</td>\n",
       "      <td>B0098FKIZU</td>\n",
       "      <td>MardeeT \"MardeeT\"</td>\n",
       "      <td>[0, 0]</td>\n",
       "      <td>Nice plastic case with a rubber inside. Stashe...</td>\n",
       "      <td>4</td>\n",
       "      <td>Nice Case, just wished it wasn't glossy.</td>\n",
       "      <td>1366675200</td>\n",
       "      <td>04 23, 2013</td>\n",
       "    </tr>\n",
       "  </tbody>\n",
       "</table>\n",
       "</div>"
      ],
      "text/plain": [
       "            reviewerID        asin       reviewerName helpful  \\\n",
       "129738  A1GUHYYOW8KTCL  B009QUDLC4                 JP  [0, 0]   \n",
       "187858  A34815X9NM9C5V  B00HF6G6IM       Bill Gatliff  [0, 1]   \n",
       "154953  A328VWN79IQFZ5  B00BW6GH76           Jonathan  [0, 0]   \n",
       "52779    A8P8Y71R8AJ3K  B005G0QR6K           1st Klaz  [3, 5]   \n",
       "119336   AR4Y501FFAJHM  B0098FKIZU  MardeeT \"MardeeT\"  [0, 0]   \n",
       "\n",
       "                                               reviewText  overall  \\\n",
       "129738  I bought these thinking they would be &#34;ok&...        5   \n",
       "187858  I grab the bright colors when I travel, makes ...        5   \n",
       "154953  Love it. Doesn't add much to the size, althoug...        5   \n",
       "52779   I like the rubber cases bc they do not affect ...        5   \n",
       "119336  Nice plastic case with a rubber inside. Stashe...        4   \n",
       "\n",
       "                                         summary  unixReviewTime   reviewTime  \n",
       "129738               does what it's supposed to!      1380326400  09 28, 2013  \n",
       "187858                       Great for travelers      1401062400  05 26, 2014  \n",
       "154953                            Wonderful case      1399248000   05 5, 2014  \n",
       "52779                         Something original      1341964800  07 11, 2012  \n",
       "119336  Nice Case, just wished it wasn't glossy.      1366675200  04 23, 2013  "
      ]
     },
     "execution_count": 4,
     "metadata": {},
     "output_type": "execute_result"
    }
   ],
   "source": [
    "df = pd.read_json('reviews_Cell_Phones_and_Accessories_5.json.gz',lines =True)\n",
    "df.sample(5)"
   ]
  },
  {
   "cell_type": "code",
   "execution_count": 6,
   "id": "5d433884",
   "metadata": {},
   "outputs": [
    {
     "data": {
      "text/plain": [
       "0         They look good and stick good! I just don't li...\n",
       "1         These stickers work like the review says they ...\n",
       "2         These are awesome and make my phone look so st...\n",
       "3         Item arrived in great time and was in perfect ...\n",
       "4         awesome! stays on, and looks great. can be use...\n",
       "                                ...                        \n",
       "194434    Works great just like my original one. I reall...\n",
       "194435    Great product. Great packaging. High quality a...\n",
       "194436    This is a great cable, just as good as the mor...\n",
       "194437    I really like it becasue it works well with my...\n",
       "194438    product as described, I have wasted a lot of m...\n",
       "Name: reviewText, Length: 194439, dtype: object"
      ]
     },
     "execution_count": 6,
     "metadata": {},
     "output_type": "execute_result"
    }
   ],
   "source": [
    "df.reviewText"
   ]
  },
  {
   "cell_type": "code",
   "execution_count": 10,
   "id": "3a8b14ca",
   "metadata": {},
   "outputs": [
    {
     "data": {
      "text/plain": [
       "0    [they, look, good, and, stick, good, just, don...\n",
       "1    [these, stickers, work, like, the, review, say...\n",
       "2    [these, are, awesome, and, make, my, phone, lo...\n",
       "3    [item, arrived, in, great, time, and, was, in,...\n",
       "4    [awesome, stays, on, and, looks, great, can, b...\n",
       "Name: reviewText, dtype: object"
      ]
     },
     "execution_count": 10,
     "metadata": {},
     "output_type": "execute_result"
    }
   ],
   "source": [
    "review_text = df.reviewText.apply(gensim.utils.simple_preprocess)\n",
    "review_text.head()"
   ]
  },
  {
   "cell_type": "code",
   "execution_count": 11,
   "id": "6f5958bc",
   "metadata": {},
   "outputs": [],
   "source": [
    "model = gensim.models.Word2Vec(\n",
    "    window= 10,\n",
    "    min_count = 2,\n",
    "    workers = 4\n",
    ")"
   ]
  },
  {
   "cell_type": "code",
   "execution_count": 12,
   "id": "d7c98585",
   "metadata": {},
   "outputs": [],
   "source": [
    "model.build_vocab(review_text, progress_per=1000)"
   ]
  },
  {
   "cell_type": "code",
   "execution_count": 13,
   "id": "0a0be0bf",
   "metadata": {},
   "outputs": [
    {
     "data": {
      "text/plain": [
       "(61501587, 83868975)"
      ]
     },
     "execution_count": 13,
     "metadata": {},
     "output_type": "execute_result"
    }
   ],
   "source": [
    "model.train(review_text, total_examples= model.corpus_count , epochs = model.epochs)"
   ]
  },
  {
   "cell_type": "code",
   "execution_count": 14,
   "id": "6f666d60",
   "metadata": {},
   "outputs": [],
   "source": [
    "model.save(\"word2vec.model\")"
   ]
  },
  {
   "cell_type": "code",
   "execution_count": 17,
   "id": "bee80bec",
   "metadata": {},
   "outputs": [
    {
     "data": {
      "text/plain": [
       "[('vehicle', 0.8671147227287292),\n",
       " ('truck', 0.7736664414405823),\n",
       " ('van', 0.7130115628242493),\n",
       " ('jeep', 0.6867245435714722),\n",
       " ('cars', 0.6505008935928345),\n",
       " ('subaru', 0.647736132144928),\n",
       " ('honda', 0.6388139724731445),\n",
       " ('bedroom', 0.6382011771202087),\n",
       " ('rv', 0.6223488450050354),\n",
       " ('suv', 0.6204434037208557)]"
      ]
     },
     "execution_count": 17,
     "metadata": {},
     "output_type": "execute_result"
    }
   ],
   "source": [
    "model.wv.most_similar(\"car\")"
   ]
  },
  {
   "cell_type": "code",
   "execution_count": 23,
   "id": "a00242a0",
   "metadata": {},
   "outputs": [
    {
     "data": {
      "text/plain": [
       "0.45440972"
      ]
     },
     "execution_count": 23,
     "metadata": {},
     "output_type": "execute_result"
    }
   ],
   "source": [
    "model.wv.similarity(\"cheap\" , \"expensive\")"
   ]
  }
 ],
 "metadata": {
  "kernelspec": {
   "display_name": "Python 3",
   "language": "python",
   "name": "python3"
  },
  "language_info": {
   "codemirror_mode": {
    "name": "ipython",
    "version": 3
   },
   "file_extension": ".py",
   "mimetype": "text/x-python",
   "name": "python",
   "nbconvert_exporter": "python",
   "pygments_lexer": "ipython3",
   "version": "3.12.9"
  }
 },
 "nbformat": 4,
 "nbformat_minor": 5
}
