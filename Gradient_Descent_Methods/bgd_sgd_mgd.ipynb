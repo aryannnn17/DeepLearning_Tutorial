{
 "cells": [
  {
   "cell_type": "code",
   "execution_count": 1,
   "id": "5250aee3",
   "metadata": {},
   "outputs": [],
   "source": [
    "import numpy as np\n",
    "import pandas as pd\n",
    "from sklearn.model_selection import train_test_split\n",
    "from sklearn.preprocessing import MinMaxScaler\n",
    "from tensorflow import keras \n",
    "import warnings\n",
    "warnings.filterwarnings('ignore')"
   ]
  },
  {
   "cell_type": "code",
   "execution_count": 2,
   "id": "344bef2d",
   "metadata": {},
   "outputs": [
    {
     "data": {
      "text/html": [
       "<div>\n",
       "<style scoped>\n",
       "    .dataframe tbody tr th:only-of-type {\n",
       "        vertical-align: middle;\n",
       "    }\n",
       "\n",
       "    .dataframe tbody tr th {\n",
       "        vertical-align: top;\n",
       "    }\n",
       "\n",
       "    .dataframe thead th {\n",
       "        text-align: right;\n",
       "    }\n",
       "</style>\n",
       "<table border=\"1\" class=\"dataframe\">\n",
       "  <thead>\n",
       "    <tr style=\"text-align: right;\">\n",
       "      <th></th>\n",
       "      <th>area</th>\n",
       "      <th>bedrooms</th>\n",
       "      <th>price</th>\n",
       "    </tr>\n",
       "  </thead>\n",
       "  <tbody>\n",
       "    <tr>\n",
       "      <th>0</th>\n",
       "      <td>1056</td>\n",
       "      <td>2</td>\n",
       "      <td>39.07</td>\n",
       "    </tr>\n",
       "    <tr>\n",
       "      <th>1</th>\n",
       "      <td>2600</td>\n",
       "      <td>4</td>\n",
       "      <td>120.00</td>\n",
       "    </tr>\n",
       "    <tr>\n",
       "      <th>2</th>\n",
       "      <td>1440</td>\n",
       "      <td>3</td>\n",
       "      <td>62.00</td>\n",
       "    </tr>\n",
       "    <tr>\n",
       "      <th>3</th>\n",
       "      <td>1521</td>\n",
       "      <td>3</td>\n",
       "      <td>75.00</td>\n",
       "    </tr>\n",
       "  </tbody>\n",
       "</table>\n",
       "</div>"
      ],
      "text/plain": [
       "   area  bedrooms   price\n",
       "0  1056         2   39.07\n",
       "1  2600         4  120.00\n",
       "2  1440         3   62.00\n",
       "3  1521         3   75.00"
      ]
     },
     "execution_count": 2,
     "metadata": {},
     "output_type": "execute_result"
    }
   ],
   "source": [
    "df = pd.read_csv('homeprices_banglore.csv')\n",
    "df.head(4)"
   ]
  },
  {
   "cell_type": "code",
   "execution_count": 3,
   "id": "933d3295",
   "metadata": {},
   "outputs": [
    {
     "data": {
      "text/plain": [
       "(array([[0.08827586, 0.25      ],\n",
       "        [0.62068966, 0.75      ],\n",
       "        [0.22068966, 0.5       ],\n",
       "        [0.24862069, 0.5       ],\n",
       "        [0.13793103, 0.25      ],\n",
       "        [0.12758621, 0.25      ],\n",
       "        [0.6662069 , 0.75      ],\n",
       "        [0.86206897, 0.75      ],\n",
       "        [0.17586207, 0.5       ],\n",
       "        [1.        , 1.        ],\n",
       "        [0.34482759, 0.5       ],\n",
       "        [0.68448276, 0.75      ],\n",
       "        [0.06896552, 0.25      ],\n",
       "        [0.10344828, 0.25      ],\n",
       "        [0.5       , 0.5       ],\n",
       "        [0.12931034, 0.25      ],\n",
       "        [0.13103448, 0.5       ],\n",
       "        [0.25517241, 0.5       ],\n",
       "        [0.67931034, 0.5       ],\n",
       "        [0.        , 0.        ]]),\n",
       " array([[0.05237037],\n",
       "        [0.65185185],\n",
       "        [0.22222222],\n",
       "        [0.31851852],\n",
       "        [0.14074074],\n",
       "        [0.04444444],\n",
       "        [0.76296296],\n",
       "        [0.91111111],\n",
       "        [0.13333333],\n",
       "        [1.        ],\n",
       "        [0.37037037],\n",
       "        [0.8       ],\n",
       "        [0.04444444],\n",
       "        [0.05925926],\n",
       "        [0.51111111],\n",
       "        [0.07407407],\n",
       "        [0.11851852],\n",
       "        [0.20740741],\n",
       "        [0.51851852],\n",
       "        [0.        ]]))"
      ]
     },
     "execution_count": 3,
     "metadata": {},
     "output_type": "execute_result"
    }
   ],
   "source": [
    "sx = MinMaxScaler()\n",
    "sy = MinMaxScaler()\n",
    "X_scaled = sx.fit_transform(df[['area', 'bedrooms']])\n",
    "y_scaled = sy.fit_transform(df['price'].values.reshape(df.shape[0],1))\n",
    "\n",
    "X_scaled, y_scaled"
   ]
  },
  {
   "cell_type": "code",
   "execution_count": 4,
   "id": "e70372ce",
   "metadata": {},
   "outputs": [],
   "source": [
    "def sigmoid(x):\n",
    "    return 1 / (1 + np.exp(-x))"
   ]
  },
  {
   "cell_type": "code",
   "execution_count": 5,
   "id": "3a37b54a",
   "metadata": {},
   "outputs": [],
   "source": [
    "def logloss(y_true, y_pred):\n",
    "    epsilon = 1e-15\n",
    "    y_pred = np.clip(y_pred, epsilon, 1 - epsilon)\n",
    "    return -np.mean(y_true * np.log(y_pred) + (1 - y_true) * np.log(1 - y_pred))"
   ]
  },
  {
   "cell_type": "markdown",
   "id": "9b8b4156",
   "metadata": {},
   "source": [
    "Batch Gradient Descent Method"
   ]
  },
  {
   "cell_type": "code",
   "execution_count": 6,
   "id": "ba4b3d42",
   "metadata": {},
   "outputs": [],
   "source": [
    "def batch_gradient_descent(X, y, epochs, learning_rate=0.01):\n",
    "    number_of_features = X.shape[1]\n",
    "    w = np.ones(number_of_features)\n",
    "    b = 0\n",
    "    total_samples = X.shape[0]\n",
    "    cost_list = []\n",
    "    epoch_list = []\n",
    "    for i in range(epochs):\n",
    "        y_pred = np.dot(w,X_scaled.T)+b\n",
    "        w_der = -(2/total_samples) *( X.T.dot (y-y_pred))\n",
    "        b_der = -(2/total_samples) * np.sum(y-y_pred)\n",
    "        \n",
    "        w = w -learning_rate * w_der\n",
    "        b = b - learning_rate * b_der\n",
    "        \n",
    "        cost = np.mean(np.square(y - y_pred))\n",
    "        if( i % 10 == 0):\n",
    "           cost_list.append(cost)\n",
    "           epoch_list.append(i)\n",
    "    return w, b, cost, cost_list, epoch_list\n",
    "        "
   ]
  },
  {
   "cell_type": "code",
   "execution_count": 7,
   "id": "9fe10485",
   "metadata": {},
   "outputs": [
    {
     "data": {
      "text/plain": [
       "(array([0.70712464, 0.67456527]), -0.23034857438407427, 0.0068641890429808105)"
      ]
     },
     "execution_count": 7,
     "metadata": {},
     "output_type": "execute_result"
    }
   ],
   "source": [
    "w,b, cost,cost_list, epoch = batch_gradient_descent(X_scaled, y_scaled.reshape(y_scaled.shape[0],), 500)\n",
    "w, b, cost"
   ]
  },
  {
   "cell_type": "code",
   "execution_count": 8,
   "id": "1e73a772",
   "metadata": {},
   "outputs": [
    {
     "data": {
      "text/plain": [
       "Text(0, 0.5, 'Cost')"
      ]
     },
     "execution_count": 8,
     "metadata": {},
     "output_type": "execute_result"
    },
    {
     "data": {
      "image/png": "[encoded data removed]",
      "text/plain": [
       "<Figure size 640x480 with 1 Axes>"
      ]
     },
     "metadata": {},
     "output_type": "display_data"
    }
   ],
   "source": [
    "import matplotlib.pyplot as plt\n",
    "%matplotlib inline\n",
    "plt.plot(epoch, cost_list)\n",
    "plt.xlabel('Epochs')\n",
    "plt.ylabel('Cost')"
   ]
  },
  {
   "cell_type": "code",
   "execution_count": 9,
   "id": "8918990d",
   "metadata": {},
   "outputs": [],
   "source": [
    "def predict_price(area, bedrooms, w, b):\n",
    "    X_scaled = sx.transform([[area, bedrooms]])[0]\n",
    "    y_scaled = w[0]*X_scaled[0] + w[1]*X_scaled[1] + b\n",
    "    return sy.inverse_transform([[y_scaled]])"
   ]
  },
  {
   "cell_type": "code",
   "execution_count": 10,
   "id": "aeb7f217",
   "metadata": {},
   "outputs": [
    {
     "data": {
      "text/plain": [
       "array([[128.45484403]])"
      ]
     },
     "execution_count": 10,
     "metadata": {},
     "output_type": "execute_result"
    }
   ],
   "source": [
    "predict_price(2600, 4, w, b)"
   ]
  },
  {
   "cell_type": "code",
   "execution_count": 11,
   "id": "d95bd2e9",
   "metadata": {},
   "outputs": [
    {
     "data": {
      "text/plain": [
       "array([[30.25309446]])"
      ]
     },
     "execution_count": 11,
     "metadata": {},
     "output_type": "execute_result"
    }
   ],
   "source": [
    "predict_price(1000, 2, w, b)"
   ]
  },
  {
   "cell_type": "markdown",
   "id": "f8b72064",
   "metadata": {},
   "source": [
    "Stochastic Gradient Descent Method"
   ]
  },
  {
   "cell_type": "code",
   "execution_count": 12,
   "id": "220d045b",
   "metadata": {},
   "outputs": [],
   "source": [
    "import random"
   ]
  },
  {
   "cell_type": "code",
   "execution_count": 13,
   "id": "f4b11791",
   "metadata": {},
   "outputs": [],
   "source": [
    "def stochastic_gradient_descent(X, y, epochs, learning_rate=0.01):\n",
    "    number_of_features = X.shape[1]\n",
    "    w = np.ones(number_of_features)\n",
    "    b = 0\n",
    "    total_samples = X.shape[0]\n",
    "   \n",
    "    cost_list = []\n",
    "    epoch_list = []\n",
    "    \n",
    "    for i in range(epochs):\n",
    "        random_index = random.randint(0, total_samples - 1)\n",
    "        sample_X = X[random_index]\n",
    "        sample_y = y[random_index]\n",
    "        y_pred = np.dot(w, sample_X.T) + b\n",
    "        w_der = -(2/total_samples) * (sample_X.T.dot(sample_y - y_pred))\n",
    "        b_der = -(2/total_samples) * (sample_y - y_pred)\n",
    "        w = w - learning_rate * w_der\n",
    "        b = b - learning_rate * b_der\n",
    "        \n",
    "        cost =np.mean(np.square(y - y_pred))\n",
    "        if i % 100 == 0:\n",
    "            cost_list.append(cost)\n",
    "            epoch_list.append(i)\n",
    "            \n",
    "    return w, b, cost, cost_list, epoch_list"
   ]
  },
  {
   "cell_type": "code",
   "execution_count": 14,
   "id": "8f03451c",
   "metadata": {},
   "outputs": [
    {
     "data": {
      "text/plain": [
       "(array([0.70946329, 0.6750248 ]), -0.22749065629931867, 0.19472216362291658)"
      ]
     },
     "execution_count": 14,
     "metadata": {},
     "output_type": "execute_result"
    }
   ],
   "source": [
    "w_sgd,b_sgd ,cost_sgd, cost_list_sgd,epoch_list_sgd= stochastic_gradient_descent(X_scaled, y_scaled.reshape(y_scaled.shape[0],), 10000)\n",
    "w_sgd,b_sgd, cost_sgd"
   ]
  },
  {
   "cell_type": "code",
   "execution_count": 15,
   "id": "1c24a9f4",
   "metadata": {},
   "outputs": [],
   "source": [
    "def predicted_price_stochastic(area, bedrooms, w, b):\n",
    "    X_scaled = sx.transform([[area, bedrooms]])[0]\n",
    "    y_scaled = w[0]*X_scaled[0] + w[1]*X_scaled[1] + b\n",
    "    return sy.inverse_transform([[y_scaled]])"
   ]
  },
  {
   "cell_type": "code",
   "execution_count": 16,
   "id": "f1de4a67",
   "metadata": {},
   "outputs": [
    {
     "data": {
      "text/plain": [
       "array([[129.08315386]])"
      ]
     },
     "execution_count": 16,
     "metadata": {},
     "output_type": "execute_result"
    }
   ],
   "source": [
    "predict_price(2600, 4, w_sgd, b_sgd)"
   ]
  },
  {
   "cell_type": "code",
   "execution_count": 17,
   "id": "9823d463",
   "metadata": {},
   "outputs": [
    {
     "data": {
      "text/plain": [
       "Text(0, 0.5, 'Cost')"
      ]
     },
     "execution_count": 17,
     "metadata": {},
     "output_type": "execute_result"
    },
    {
     "data": {
      "image/png": "[encoded data removed]",
      "text/plain": [
       "<Figure size 640x480 with 1 Axes>"
      ]
     },
     "metadata": {},
     "output_type": "display_data"
    }
   ],
   "source": [
    "plt.plot(epoch_list_sgd, cost_list_sgd)\n",
    "plt.xlabel('Epochs')\n",
    "plt.ylabel('Cost')"
   ]
  },
  {
   "cell_type": "markdown",
   "id": "e1e298df",
   "metadata": {},
   "source": [
    "Mini Gradient Descent Method"
   ]
  },
  {
   "cell_type": "code",
   "execution_count": 18,
   "id": "2e0ccb89",
   "metadata": {},
   "outputs": [
    {
     "data": {
      "text/plain": [
       "array([1, 0, 5, 7, 3, 2, 9, 6, 4, 8])"
      ]
     },
     "execution_count": 18,
     "metadata": {},
     "output_type": "execute_result"
    }
   ],
   "source": [
    "np.random.permutation(10)"
   ]
  },
  {
   "cell_type": "code",
   "execution_count": 19,
   "id": "9147e390",
   "metadata": {},
   "outputs": [],
   "source": [
    "def mini_gradient_descent(X, y, epochs=100, batches=5, learning_rate=0.01):\n",
    "    number_of_features = X.shape[1]\n",
    "    w = np.ones(number_of_features)\n",
    "    b = 0\n",
    "    total_samples = X.shape[0]\n",
    "    \n",
    "    if total_samples < batches:\n",
    "        batches = total_samples\n",
    "    cost_list = []\n",
    "    epoch_list = []\n",
    "    number_of_batches = int(total_samples/batches)\n",
    "    \n",
    "    for i in range(epochs):\n",
    "        random_index = np.random.permutation(total_samples)\n",
    "        batch_X = X[random_index]\n",
    "        batch_y = y[random_index]\n",
    "        \n",
    "        for j in range(0,total_samples, number_of_batches):\n",
    "            X_tmp = batch_X[j:j+batches]\n",
    "            y_tmp = batch_y[j:j+batches]\n",
    "            y_pred = np.dot(w,X_tmp.T) + b\n",
    "            \n",
    "            w_der = -(2/batches) * (X_tmp.T.dot(y_tmp - y_pred))\n",
    "            b_der = -(2/batches) * np.sum(y_tmp - y_pred)\n",
    "            \n",
    "            w = w - learning_rate * w_der\n",
    "            b = b - learning_rate * b_der\n",
    "            \n",
    "            cost = np.mean(np.square(y_tmp - y_pred))\n",
    "       \n",
    "        if i % 10 == 0:\n",
    "            cost_list.append(cost)\n",
    "            epoch_list.append(i)\n",
    "            \n",
    "    return w, b, cost, cost_list, epoch_list"
   ]
  },
  {
   "cell_type": "code",
   "execution_count": 20,
   "id": "842f73e4",
   "metadata": {},
   "outputs": [
    {
     "data": {
      "text/plain": [
       "(array([0.70795204, 0.67682321]), -0.23122610764213772, 0.0034258932261501565)"
      ]
     },
     "execution_count": 20,
     "metadata": {},
     "output_type": "execute_result"
    }
   ],
   "source": [
    "w_mgd,b_mgd ,cost_mgd, cost_list_mgd,epoch_list_mgd= mini_gradient_descent(X_scaled, y_scaled.reshape(y_scaled.shape[0],),100, 5)\n",
    "w_mgd,b_mgd, cost_mgd"
   ]
  },
  {
   "cell_type": "code",
   "execution_count": 21,
   "id": "f8023f30",
   "metadata": {},
   "outputs": [
    {
     "data": {
      "text/plain": [
       "array([[128.63432425]])"
      ]
     },
     "execution_count": 21,
     "metadata": {},
     "output_type": "execute_result"
    }
   ],
   "source": [
    "predict_price(2600, 4, w_mgd, b_mgd)"
   ]
  },
  {
   "cell_type": "code",
   "execution_count": 22,
   "id": "a051274d",
   "metadata": {},
   "outputs": [
    {
     "data": {
      "text/plain": [
       "array([[69.53951384]])"
      ]
     },
     "execution_count": 22,
     "metadata": {},
     "output_type": "execute_result"
    }
   ],
   "source": [
    "predict_price(1500, 3, w_mgd, b_mgd)"
   ]
  },
  {
   "cell_type": "code",
   "execution_count": 23,
   "id": "fce3d058",
   "metadata": {},
   "outputs": [
    {
     "data": {
      "text/plain": [
       "Text(0, 0.5, 'Cost')"
      ]
     },
     "execution_count": 23,
     "metadata": {},
     "output_type": "execute_result"
    },
    {
     "data": {
      "image/png": "[encoded data removed]",
      "text/plain": [
       "<Figure size 640x480 with 1 Axes>"
      ]
     },
     "metadata": {},
     "output_type": "display_data"
    }
   ],
   "source": [
    "plt.plot(epoch_list_mgd, cost_list_mgd)\n",
    "plt.xlabel('Epochs')\n",
    "plt.ylabel('Cost')"
   ]
  }
 ],
 "metadata": {
  "kernelspec": {
   "display_name": "Python 3",
   "language": "python",
   "name": "python3"
  },
  "language_info": {
   "codemirror_mode": {
    "name": "ipython",
    "version": 3
   },
   "file_extension": ".py",
   "mimetype": "text/x-python",
   "name": "python",
   "nbconvert_exporter": "python",
   "pygments_lexer": "ipython3",
   "version": "3.10.0"
  }
 },
 "nbformat": 4,
 "nbformat_minor": 5
}
